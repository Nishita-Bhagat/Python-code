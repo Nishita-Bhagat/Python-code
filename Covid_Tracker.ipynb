{
  "nbformat": 4,
  "nbformat_minor": 0,
  "metadata": {
    "colab": {
      "name": "Covid Tracker.ipynb",
      "provenance": [],
      "authorship_tag": "ABX9TyN9PUn+RB7lea3hBXrhhG7Z",
      "include_colab_link": true
    },
    "kernelspec": {
      "name": "python3",
      "display_name": "Python 3"
    }
  },
  "cells": [
    {
      "cell_type": "markdown",
      "metadata": {
        "id": "view-in-github",
        "colab_type": "text"
      },
      "source": [
        "<a href=\"https://colab.research.google.com/github/Nishita-Bhagat/Python-code/blob/main/Covid_Tracker.ipynb\" target=\"_parent\"><img src=\"https://colab.research.google.com/assets/colab-badge.svg\" alt=\"Open In Colab\"/></a>"
      ]
    },
    {
      "cell_type": "code",
      "metadata": {
        "id": "7GtE8dlNp-0a",
        "colab": {
          "base_uri": "https://localhost:8080/"
        },
        "outputId": "d083b41f-220b-4303-e7a8-49f765b6ef7b"
      },
      "source": [
        "pip install covid"
      ],
      "execution_count": 2,
      "outputs": [
        {
          "output_type": "stream",
          "text": [
            "Collecting covid\n",
            "  Downloading https://files.pythonhosted.org/packages/70/c0/f90223048a7657af97c013234a25243dd13b3ddcfa9a522ab10556502c97/covid-2.4.0.tar.gz\n",
            "  Installing build dependencies ... \u001b[?25l\u001b[?25hdone\n",
            "  Getting requirements to build wheel ... \u001b[?25l\u001b[?25hdone\n",
            "    Preparing wheel metadata ... \u001b[?25l\u001b[?25hdone\n",
            "Requirement already satisfied: beautifulsoup4 in /usr/local/lib/python3.7/dist-packages (from covid) (4.6.3)\n",
            "Collecting pydantic\n",
            "\u001b[?25l  Downloading https://files.pythonhosted.org/packages/2b/a3/0ffdb6c63f45f10d19b8e8b32670b22ed089cafb29732f6bf8ce518821fb/pydantic-1.8.1-cp37-cp37m-manylinux2014_x86_64.whl (10.1MB)\n",
            "\u001b[K     |████████████████████████████████| 10.1MB 5.9MB/s \n",
            "\u001b[?25hCollecting typer\n",
            "  Downloading https://files.pythonhosted.org/packages/90/34/d138832f6945432c638f32137e6c79a3b682f06a63c488dcfaca6b166c64/typer-0.3.2-py3-none-any.whl\n",
            "Requirement already satisfied: requests in /usr/local/lib/python3.7/dist-packages (from covid) (2.23.0)\n",
            "Requirement already satisfied: typing-extensions>=3.7.4.3 in /usr/local/lib/python3.7/dist-packages (from pydantic->covid) (3.7.4.3)\n",
            "Requirement already satisfied: click<7.2.0,>=7.1.1 in /usr/local/lib/python3.7/dist-packages (from typer->covid) (7.1.2)\n",
            "Requirement already satisfied: chardet<4,>=3.0.2 in /usr/local/lib/python3.7/dist-packages (from requests->covid) (3.0.4)\n",
            "Requirement already satisfied: certifi>=2017.4.17 in /usr/local/lib/python3.7/dist-packages (from requests->covid) (2020.12.5)\n",
            "Requirement already satisfied: idna<3,>=2.5 in /usr/local/lib/python3.7/dist-packages (from requests->covid) (2.10)\n",
            "Requirement already satisfied: urllib3!=1.25.0,!=1.25.1,<1.26,>=1.21.1 in /usr/local/lib/python3.7/dist-packages (from requests->covid) (1.24.3)\n",
            "Building wheels for collected packages: covid\n",
            "  Building wheel for covid (PEP 517) ... \u001b[?25l\u001b[?25hdone\n",
            "  Created wheel for covid: filename=covid-2.4.0-cp37-none-any.whl size=9609 sha256=b38d103199e9d39f7b1f64e0368e91f554ab2e5bf7e0cce3637a048e2f01b3c1\n",
            "  Stored in directory: /root/.cache/pip/wheels/57/30/a3/102c5b090ee109cc5e6c6bcc95f579ee81a829d9dc9ee42e3c\n",
            "Successfully built covid\n",
            "Installing collected packages: pydantic, typer, covid\n",
            "Successfully installed covid-2.4.0 pydantic-1.8.1 typer-0.3.2\n"
          ],
          "name": "stdout"
        }
      ]
    },
    {
      "cell_type": "code",
      "metadata": {
        "id": "Oe60msn4uxB3",
        "colab": {
          "base_uri": "https://localhost:8080/"
        },
        "outputId": "6d3b4328-872a-468d-9773-d969b7a941f9"
      },
      "source": [
        "pip install matplotlib"
      ],
      "execution_count": 3,
      "outputs": [
        {
          "output_type": "stream",
          "text": [
            "Requirement already satisfied: matplotlib in /usr/local/lib/python3.7/dist-packages (3.2.2)\n",
            "Requirement already satisfied: pyparsing!=2.0.4,!=2.1.2,!=2.1.6,>=2.0.1 in /usr/local/lib/python3.7/dist-packages (from matplotlib) (2.4.7)\n",
            "Requirement already satisfied: numpy>=1.11 in /usr/local/lib/python3.7/dist-packages (from matplotlib) (1.19.5)\n",
            "Requirement already satisfied: python-dateutil>=2.1 in /usr/local/lib/python3.7/dist-packages (from matplotlib) (2.8.1)\n",
            "Requirement already satisfied: kiwisolver>=1.0.1 in /usr/local/lib/python3.7/dist-packages (from matplotlib) (1.3.1)\n",
            "Requirement already satisfied: cycler>=0.10 in /usr/local/lib/python3.7/dist-packages (from matplotlib) (0.10.0)\n",
            "Requirement already satisfied: six>=1.5 in /usr/local/lib/python3.7/dist-packages (from python-dateutil>=2.1->matplotlib) (1.15.0)\n"
          ],
          "name": "stdout"
        }
      ]
    },
    {
      "cell_type": "code",
      "metadata": {
        "id": "u0YZ31BLu5ro"
      },
      "source": [
        "import covid\n",
        "import matplotlib.pyplot"
      ],
      "execution_count": 4,
      "outputs": []
    },
    {
      "cell_type": "code",
      "metadata": {
        "id": "POFWuFLCvAd5"
      },
      "source": [
        "from covid import Covid"
      ],
      "execution_count": 5,
      "outputs": []
    },
    {
      "cell_type": "code",
      "metadata": {
        "id": "SqeU2A-avHAU"
      },
      "source": [
        "import matplotlib.pyplot as plt"
      ],
      "execution_count": 6,
      "outputs": []
    },
    {
      "cell_type": "code",
      "metadata": {
        "id": "W_JxC5-zvFNF"
      },
      "source": [
        "covid=Covid()\n",
        "name=input(\"Enter the country name\")\n",
        "virusdata=covid.get_status_by_country_name(name)\n",
        "remove=['id','country','latitude','longitude','last_update']\n",
        "for i in remove:\n",
        "  virusdata.pop(i)\n",
        "all=virusdata.pop('confirmed')\n",
        "id=list(virusdata.keys())\n",
        "value=[str(i) for i in virusdata.values()]\n",
        "plt.pie(value,labels=id,colors=['r','y','g','b'],autopct='%1.1f%%')\n",
        "plt.title(\"COUNTRY : \"+name.upper() +\"\\n TOTAL CASES : \"+str(all))\n",
        "plt.legend()\n",
        "plt.show()"
      ],
      "execution_count": null,
      "outputs": []
    },
    {
      "cell_type": "code",
      "metadata": {
        "id": "nk_u3hJAvPp9"
      },
      "source": [
        ""
      ],
      "execution_count": null,
      "outputs": []
    }
  ]
}