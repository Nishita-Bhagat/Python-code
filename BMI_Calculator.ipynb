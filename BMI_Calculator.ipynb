{
  "nbformat": 4,
  "nbformat_minor": 0,
  "metadata": {
    "colab": {
      "name": "BMI Calculator.ipynb",
      "provenance": [],
      "collapsed_sections": [],
      "authorship_tag": "ABX9TyM/+TKAATKMW6X8mQ+KaZXb",
      "include_colab_link": true
    },
    "kernelspec": {
      "name": "python3",
      "display_name": "Python 3"
    },
    "language_info": {
      "name": "python"
    }
  },
  "cells": [
    {
      "cell_type": "markdown",
      "metadata": {
        "id": "view-in-github",
        "colab_type": "text"
      },
      "source": [
        "<a href=\"https://colab.research.google.com/github/Nishita-Bhagat/Python-code/blob/main/BMI_Calculator.ipynb\" target=\"_parent\"><img src=\"https://colab.research.google.com/assets/colab-badge.svg\" alt=\"Open In Colab\"/></a>"
      ]
    },
    {
      "cell_type": "markdown",
      "metadata": {
        "id": "eSvUYsxUeqRX"
      },
      "source": [
        "The Body Mass Index or BMI is calculated from weight and height of a Person."
      ]
    },
    {
      "cell_type": "code",
      "metadata": {
        "colab": {
          "base_uri": "https://localhost:8080/"
        },
        "id": "gforyRERfzDT",
        "outputId": "df6396ee-3f58-46ac-88eb-2bf77eafe1f4"
      },
      "source": [
        "Height=float(input(\"Enter your height in centimeters:  \"))\n",
        "Weight=float(input(\"Enter your weight in kg:  \"))\n",
        "Height=Height/100\n",
        "BMI=Weight/(Height*Height)\n",
        "print(\"Your body mass index is : \",BMI)\n",
        "if(BMI>0):\n",
        "  if(BMI<=16):\n",
        "    print(\"You are severely underweight\")\n",
        "  elif(BMI<=18.5):\n",
        "    print(\"You are underweight\")\n",
        "  elif(BMI<=25):\n",
        "    print(\"You are healthy\")\n",
        "  elif(BMI<=30):\n",
        "    print(\"You are overweight\")\n",
        "  else : print(\"You are severely underweight\")\n",
        "else : (\"Enter valid details\")\n",
        "  "
      ],
      "execution_count": null,
      "outputs": [
        {
          "output_type": "stream",
          "text": [
            "Enter your height in centimeters:  172\n",
            "Enter your weight in kg:  57\n",
            "Your body mass index is :  19.2671714440238\n",
            "You are healthy\n"
          ],
          "name": "stdout"
        }
      ]
    }
  ]
}