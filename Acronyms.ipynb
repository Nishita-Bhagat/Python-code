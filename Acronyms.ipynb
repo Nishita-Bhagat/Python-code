{
  "nbformat": 4,
  "nbformat_minor": 0,
  "metadata": {
    "colab": {
      "name": "Acronyms.ipynb",
      "provenance": [],
      "authorship_tag": "ABX9TyN5y6YXhG3VJ5X0ZpVvaQlc",
      "include_colab_link": true
    },
    "kernelspec": {
      "name": "python3",
      "display_name": "Python 3"
    }
  },
  "cells": [
    {
      "cell_type": "markdown",
      "metadata": {
        "id": "view-in-github",
        "colab_type": "text"
      },
      "source": [
        "<a href=\"https://colab.research.google.com/github/Nishita-Bhagat/Python-code/blob/main/Acronyms.ipynb\" target=\"_parent\"><img src=\"https://colab.research.google.com/assets/colab-badge.svg\" alt=\"Open In Colab\"/></a>"
      ]
    },
    {
      "cell_type": "code",
      "metadata": {
        "id": "WbQmMpEN0SkS"
      },
      "source": [
        "#To create acronyms using python, we need to generate a short form of a word given sentence. Splitting and Indexing and then combinning them.\n",
        "user_input=str(input(\"Enter a Phrase: \"))\n",
        "text=user_input.split()\n",
        "a= \" \"\n",
        "for i in text:\n",
        "  a=a+str(i[0]).upper()\n",
        "  print(a)"
      ],
      "execution_count": null,
      "outputs": []
    }
  ]
}